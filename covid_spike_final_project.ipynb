{
 "cells": [
  {
   "cell_type": "code",
   "execution_count": 64,
   "id": "e308c38d",
   "metadata": {},
   "outputs": [
    {
     "name": "stdout",
     "output_type": "stream",
     "text": [
      "Wuhan_strain\n",
      "B.1.1.7|Alpha\n",
      "B.1.351|Beta\n",
      "P.1|Gamma\n",
      "B.1.617|Delta\n",
      "B.1.1.529|Omicron\n"
     ]
    }
   ],
   "source": [
    "from Bio import SeqIO\n",
    "fasta = list(SeqIO.parse('/Users/sri/cov_ali.fasta', format = 'fasta'))\n",
    "\n",
    "for entry in fasta:\n",
    "    print(entry.id)"
   ]
  },
  {
   "cell_type": "code",
   "execution_count": 65,
   "id": "bed0b22f",
   "metadata": {},
   "outputs": [],
   "source": [
    "seqs = {}\n",
    "for entry in fasta:\n",
    "    seqs[entry.id] = entry"
   ]
  },
  {
   "cell_type": "code",
   "execution_count": 66,
   "id": "2f9b6706",
   "metadata": {},
   "outputs": [
    {
     "data": {
      "text/plain": [
       "Seq('------------------------------------------------------...---')"
      ]
     },
     "execution_count": 66,
     "metadata": {},
     "output_type": "execute_result"
    }
   ],
   "source": [
    "seqs['B.1.1.529|Omicron'].seq"
   ]
  },
  {
   "cell_type": "code",
   "execution_count": 67,
   "id": "82b2bf6b",
   "metadata": {
    "scrolled": true
   },
   "outputs": [
    {
     "name": "stdout",
     "output_type": "stream",
     "text": [
      "29916\n",
      "29916\n",
      "29916\n",
      "29916\n",
      "29916\n",
      "29916\n"
     ]
    }
   ],
   "source": [
    "for entry in fasta:\n",
    "    print(len(entry.seq))"
   ]
  },
  {
   "cell_type": "code",
   "execution_count": 34,
   "id": "63c6e9e2",
   "metadata": {},
   "outputs": [
    {
     "name": "stdout",
     "output_type": "stream",
     "text": [
      "\n",
      "nseq =  6\n",
      "distance =  ktuples\n",
      "iterate =  0\n",
      "cycle =  2\n",
      "sparsepickup = 0\n",
      "nguidetree = 2\n",
      "nthread = 0\n",
      "sueff_global = 0.100000\n",
      "generating a scoring matrix for nucleotide (dist=200) ... done\n",
      "done\n",
      "done\n",
      "scoremtx = -1\n",
      "Gap Penalty = -1.53, +0.00, +0.00\n",
      "\n",
      "tuplesize = 6, dorp = d\n",
      "\n",
      "\n",
      "Making a distance matrix ..\n",
      "\n",
      "There are 30 ambiguous characters.\n",
      "    1 / 6\n",
      "done.\n",
      "\n",
      "Constructing a UPGMA tree ... \n",
      "    0 / 6\n",
      "done.\n",
      "\n",
      "Progressive alignment 1/2... \n",
      "STEP     5 / 5 f\n",
      "done.\n",
      "\n",
      "Making a distance matrix from msa.. \n",
      "    0 / 6\n",
      "done.\n",
      "\n",
      "Constructing a UPGMA tree ... \n",
      "    0 / 6\n",
      "done.\n",
      "\n",
      "Progressive alignment 2/2... \n",
      "STEP     5 / 5 f\n",
      "done.\n",
      "\n",
      "disttbfast (nuc) Version 7.245 alg=A, model=DNA200 (2), 1.53 (4.59), -0.00 (-0.00), noshift, amax=0.0\n",
      "0 thread(s)\n",
      "\n",
      "\n",
      "Strategy:\n",
      " FFT-NS-2 (Fast but rough)\n",
      " Progressive method (guide trees were built 2 times.)\n",
      "\n",
      "If unsure which option to use, try 'mafft --auto input > output'.\n",
      "For more information, see 'mafft --help', 'mafft --man' and the mafft page.\n",
      "\n",
      "The default gap scoring scheme has been changed in version 7.110 (2013 Oct).\n",
      "It tends to insert more gaps into gap-rich regions than previous versions.\n",
      "To disable this change, add the --leavegappyregion option.\n",
      "\n"
     ]
    }
   ],
   "source": [
    "!mafft '/Users/sri/cov_ali.fasta' > cov_align.txt"
   ]
  },
  {
   "cell_type": "code",
   "execution_count": 35,
   "id": "01389242",
   "metadata": {},
   "outputs": [],
   "source": [
    " # wuhan - 21563..25384\n",
    "def gapped_pos(seq, pos):\n",
    "    non_gap = 0\n",
    "    gaps = 0\n",
    "    for nt in seq:\n",
    "        if nt != '-':\n",
    "            non_gap += 1\n",
    "        else:\n",
    "            gaps += 1\n",
    "        if  non_gap == pos:\n",
    "            return pos + gaps"
   ]
  },
  {
   "cell_type": "code",
   "execution_count": 36,
   "id": "720e0a4a",
   "metadata": {},
   "outputs": [
    {
     "data": {
      "text/plain": [
       "16"
      ]
     },
     "execution_count": 36,
     "metadata": {},
     "output_type": "execute_result"
    }
   ],
   "source": [
    "gapped_pos('aaa--------aaaaa-a', 8)\n",
    "        "
   ]
  },
  {
   "cell_type": "code",
   "execution_count": 38,
   "id": "657182d5",
   "metadata": {},
   "outputs": [
    {
     "data": {
      "text/plain": [
       "21563"
      ]
     },
     "execution_count": 38,
     "metadata": {},
     "output_type": "execute_result"
    }
   ],
   "source": [
    "gapped_pos(seqs['Wuhan_strain'].seq, 21563)"
   ]
  },
  {
   "cell_type": "code",
   "execution_count": 39,
   "id": "bcb0fb1c",
   "metadata": {},
   "outputs": [
    {
     "data": {
      "text/plain": [
       "25393"
      ]
     },
     "execution_count": 39,
     "metadata": {},
     "output_type": "execute_result"
    }
   ],
   "source": [
    "gapped_pos(seqs['Wuhan_strain'].seq, 25384)"
   ]
  },
  {
   "cell_type": "code",
   "execution_count": 40,
   "id": "0dd921f6",
   "metadata": {},
   "outputs": [
    {
     "name": "stdout",
     "output_type": "stream",
     "text": [
      "atgtttgttt\n",
      "atgtttgttt\n",
      "atgtttgttt\n",
      "atgtttgttt\n",
      "atgtttgttt\n",
      "atgtttgttt\n"
     ]
    }
   ],
   "source": [
    "spikes = {}\n",
    "for seq in fasta:\n",
    "    spikes[seq.id] = seq.seq[21563-1:25393]\n",
    "for spike in spikes:\n",
    "    print(spikes[spike][0:10])"
   ]
  },
  {
   "cell_type": "code",
   "execution_count": 61,
   "id": "749a6610",
   "metadata": {
    "scrolled": false
   },
   "outputs": [
    {
     "name": "stdout",
     "output_type": "stream",
     "text": [
      "C199T\n",
      "T202-\n",
      "A203-\n",
      "C204-\n",
      "A205-\n",
      "T206-\n",
      "G207-\n",
      "C283T\n",
      "G424-\n",
      "T425-\n",
      "G426-\n",
      "T427-\n",
      "T428-\n",
      "T429-\n",
      "A430-\n",
      "T431-\n",
      "T432-\n",
      "A631-\n",
      "T632-\n",
      "T633-\n",
      "-642G\n",
      "-643A\n",
      "-644G\n",
      "-645C\n",
      "-646C\n",
      "-647A\n",
      "-648G\n",
      "-649A\n",
      "-650A\n",
      "G1024A\n",
      "T1119C\n",
      "C1120T\n",
      "T1125C\n",
      "C1132T\n",
      "G1259T\n",
      "T1328G\n",
      "G1344A\n",
      "G1438A\n",
      "C1441A\n",
      "A1459C\n",
      "A1486G\n",
      "G1494A\n",
      "A1501G\n",
      "A1509T\n",
      "T1521C\n",
      "C1648A\n",
      "A1849G\n",
      "C1971T\n",
      "T2045G\n",
      "C2050A\n",
      "C2300A\n",
      "G2394T\n",
      "C2576A\n",
      "A2870T\n",
      "T2915A\n",
      "C2949T\n",
      "C3446T\n"
     ]
    }
   ],
   "source": [
    "def get_mutations(initial, variant):\n",
    "    seqs = list(zip(initial, variant))\n",
    "    for pos, nt in enumerate(seqs):\n",
    "        if nt[0] != nt[1]:\n",
    "            print(nt[0].upper()+str(pos)+nt[1].upper())\n",
    "get_mutations(spikes['Wuhan_strain'], spikes['B.1.1.529|Omicron'])"
   ]
  },
  {
   "cell_type": "code",
   "execution_count": 42,
   "id": "7ae8db5f",
   "metadata": {},
   "outputs": [],
   "source": [
    "with open('spikes.fasta', 'w') as f:\n",
    "    for spike in spikes:\n",
    "        out = spikes[spike].replace('-', '').translate()\n",
    "        f.write('>' + spike + '\\n')\n",
    "        f.write(str(out).upper()+'\\n')"
   ]
  },
  {
   "cell_type": "code",
   "execution_count": 43,
   "id": "8fdbaaaa",
   "metadata": {},
   "outputs": [
    {
     "name": "stdout",
     "output_type": "stream",
     "text": [
      "3D COVID Protein Visualization.ipynb\r\n",
      "\u001b[34mApplications\u001b[m\u001b[m\r\n",
      "\u001b[34mAutodesk\u001b[m\u001b[m\r\n",
      "Covid Spike Mutations Project-FINAL.ipynb\r\n",
      "Covid Spike Mutations Project.ipynb\r\n",
      "\u001b[34mCreative Cloud Files\u001b[m\u001b[m\r\n",
      "\u001b[34mDesktop\u001b[m\u001b[m\r\n",
      "\u001b[34mDocuments\u001b[m\u001b[m\r\n",
      "\u001b[34mDownloads\u001b[m\u001b[m\r\n",
      "\u001b[34mFusion 360 CAM\u001b[m\u001b[m\r\n",
      "\u001b[34mLLaVA\u001b[m\u001b[m\r\n",
      "\u001b[34mLibrary\u001b[m\u001b[m\r\n",
      "\u001b[34mMovies\u001b[m\u001b[m\r\n",
      "\u001b[34mMusic\u001b[m\u001b[m\r\n",
      "\u001b[34mPictures\u001b[m\u001b[m\r\n",
      "\u001b[34mPublic\u001b[m\u001b[m\r\n",
      "Untitled.ipynb\r\n",
      "competetion-19.v5blocks\r\n",
      "cov_ali.fasta\r\n",
      "cov_ali.txt\r\n",
      "cov_ali2.txt\r\n",
      "cov_ali3.txt\r\n",
      "cov_align.txt\r\n",
      "\u001b[34mfasta_compare\u001b[m\u001b[m\r\n",
      "fibonacci\r\n",
      "\u001b[34mncov-clades-schema\u001b[m\u001b[m\r\n",
      "\u001b[34mnextclade\u001b[m\u001b[m\r\n",
      "\u001b[34mopt\u001b[m\u001b[m\r\n",
      "seqs_ali.fasta\r\n",
      "seqs_pig.fasta\r\n",
      "spikes.fasta\r\n",
      "spikes_ali.fasta\r\n",
      "spikes_ali.txt\r\n",
      "spikes_ali2.txt\r\n",
      "spikes_ali3.fasta\r\n",
      "spikes_ali3.txt\r\n",
      "untitled.txt\r\n"
     ]
    }
   ],
   "source": [
    "!ls"
   ]
  },
  {
   "cell_type": "code",
   "execution_count": 44,
   "id": "af726648",
   "metadata": {},
   "outputs": [
    {
     "name": "stdout",
     "output_type": "stream",
     "text": [
      "\n",
      "nseq =  6\n",
      "distance =  ktuples\n",
      "iterate =  0\n",
      "cycle =  2\n",
      "sparsepickup = 0\n",
      "nguidetree = 2\n",
      "nthread = 0\n",
      "sueff_global = 0.100000\n",
      "done.\n",
      "scoremtx = 1\n",
      "Gap Penalty = -1.53, +0.00, +0.00\n",
      "\n",
      "tuplesize = 6, dorp = p\n",
      "\n",
      "\n",
      "Making a distance matrix ..\n",
      "    1 / 6\n",
      "done.\n",
      "\n",
      "Constructing a UPGMA tree ... \n",
      "    0 / 6\n",
      "done.\n",
      "\n",
      "Progressive alignment 1/2... \n",
      "STEP     5 / 5 f\n",
      "done.\n",
      "\n",
      "Making a distance matrix from msa.. \n",
      "    0 / 6\n",
      "done.\n",
      "\n",
      "Constructing a UPGMA tree ... \n",
      "    0 / 6\n",
      "done.\n",
      "\n",
      "Progressive alignment 2/2... \n",
      "STEP     5 / 5 f\n",
      "done.\n",
      "\n",
      "disttbfast (aa) Version 7.245 alg=A, model=BLOSUM62, 1.53, -0.00, -0.00, noshift, amax=0.0\n",
      "0 thread(s)\n",
      "\n",
      "\n",
      "Strategy:\n",
      " FFT-NS-2 (Fast but rough)\n",
      " Progressive method (guide trees were built 2 times.)\n",
      "\n",
      "If unsure which option to use, try 'mafft --auto input > output'.\n",
      "For more information, see 'mafft --help', 'mafft --man' and the mafft page.\n",
      "\n",
      "The default gap scoring scheme has been changed in version 7.110 (2013 Oct).\n",
      "It tends to insert more gaps into gap-rich regions than previous versions.\n",
      "To disable this change, add the --leavegappyregion option.\n",
      "\n"
     ]
    }
   ],
   "source": [
    "!mafft '/Users/sri/spikes.fasta' > spikes_ali3.fasta\n"
   ]
  },
  {
   "cell_type": "code",
   "execution_count": 45,
   "id": "6ffac72d",
   "metadata": {},
   "outputs": [],
   "source": [
    "spikes_aa = list(SeqIO.parse('/Users/sri/spikes_ali3.fasta' ,format = 'fasta')) \n",
    "                "
   ]
  },
  {
   "cell_type": "code",
   "execution_count": 46,
   "id": "4feaa24e",
   "metadata": {},
   "outputs": [
    {
     "data": {
      "text/plain": [
       "[SeqRecord(seq=Seq('MFVFLVLLPLVSSQCVNLTTRTQLPPAYTNSFTRGVYYPDKVFRSSVLHSTQDL...HYT'), id='Wuhan_strain', name='Wuhan_strain', description='Wuhan_strain', dbxrefs=[]),\n",
       " SeqRecord(seq=Seq('MFVFLVLLPLVSSQCVNLTTRTQLPPAYTNSFTRGVYYPDKVFRSSVLHSTQDL...HYT'), id='B.1.1.7|Alpha', name='B.1.1.7|Alpha', description='B.1.1.7|Alpha', dbxrefs=[]),\n",
       " SeqRecord(seq=Seq('MFVFLVLLPLVSSQCVNLTTRTQLPPAYTNSFTRGVYYPDKVFRSSVLHSTQDL...HYT'), id='B.1.351|Beta', name='B.1.351|Beta', description='B.1.351|Beta', dbxrefs=[]),\n",
       " SeqRecord(seq=Seq('MFVFLVLLPLVSSQCVNFTNRTQLPSAYTNSFTRGVYYPDKVFRSSVLHSTQDL...HYT'), id='P.1|Gamma', name='P.1|Gamma', description='P.1|Gamma', dbxrefs=[]),\n",
       " SeqRecord(seq=Seq('MFVFLVLLPLVSSQCVNLRTRTQLPPAYTNSFTRGVYYPDKVFRSSVLHSTQDL...HYT'), id='B.1.617|Delta', name='B.1.617|Delta', description='B.1.617|Delta', dbxrefs=[]),\n",
       " SeqRecord(seq=Seq('MFVFLVLLPLVSSQCVNLTTRTQLPPAYTNSFTRGVYYPDKVFRSSVLHSTQDL...HYT'), id='B.1.1.529|Omicron', name='B.1.1.529|Omicron', description='B.1.1.529|Omicron', dbxrefs=[])]"
      ]
     },
     "execution_count": 46,
     "metadata": {},
     "output_type": "execute_result"
    }
   ],
   "source": [
    "spikes_aa"
   ]
  },
  {
   "cell_type": "code",
   "execution_count": 47,
   "id": "6a2d7b2c",
   "metadata": {},
   "outputs": [],
   "source": [
    "seqs_spikes = {}\n",
    "for entry in spikes_aa:\n",
    "    seqs_spikes[entry.id] = entry.seq"
   ]
  },
  {
   "cell_type": "code",
   "execution_count": 48,
   "id": "b5b2475f",
   "metadata": {},
   "outputs": [
    {
     "data": {
      "text/plain": [
       "Seq('MFVFLVLLPLVSSQCVNLTTRTQLPPAYTNSFTRGVYYPDKVFRSSVLHSTQDL...HYT')"
      ]
     },
     "execution_count": 48,
     "metadata": {},
     "output_type": "execute_result"
    }
   ],
   "source": [
    "seqs_spikes['Wuhan_strain']"
   ]
  },
  {
   "cell_type": "code",
   "execution_count": 49,
   "id": "4b65e8b5",
   "metadata": {},
   "outputs": [
    {
     "data": {
      "text/plain": [
       "Seq('MFVFLVLLPLVSSQCVNLTTRTQLPPAYTNSFTRGVYYPDKVFRSSVLHSTQDL...HYT')"
      ]
     },
     "execution_count": 49,
     "metadata": {},
     "output_type": "execute_result"
    }
   ],
   "source": [
    "seqs_spikes['B.1.1.529|Omicron']"
   ]
  },
  {
   "cell_type": "code",
   "execution_count": 50,
   "id": "296149a1",
   "metadata": {},
   "outputs": [
    {
     "data": {
      "text/plain": [
       "['T18R',\n",
       " 'K76T',\n",
       " 'E155-',\n",
       " 'F156-',\n",
       " 'R157G',\n",
       " 'L454R',\n",
       " 'T480K',\n",
       " 'D616G',\n",
       " 'P683R',\n",
       " 'D952N']"
      ]
     },
     "execution_count": 50,
     "metadata": {},
     "output_type": "execute_result"
    }
   ],
   "source": [
    "def get_aa_mutations(initial, variant):\n",
    "    out = []\n",
    "    seqs = list(zip(initial, variant))\n",
    "    for pos, aa in enumerate(seqs):\n",
    "        if aa[0] != aa[1]:\n",
    "            out.append(aa[0].upper() +str(pos) +aa[1].upper())\n",
    "    return out\n",
    "get_aa_mutations(seqs_spikes['Wuhan_strain'], seqs_spikes['B.1.617|Delta'])"
   ]
  },
  {
   "cell_type": "code",
   "execution_count": 51,
   "id": "65ca2e5b",
   "metadata": {},
   "outputs": [
    {
     "name": "stdout",
     "output_type": "stream",
     "text": [
      "Wuhan_strain 0\n",
      "B.1.1.7|Alpha 10\n",
      "B.1.351|Beta 10\n",
      "P.1|Gamma 12\n",
      "B.1.617|Delta 10\n",
      "B.1.1.529|Omicron 39\n"
     ]
    }
   ],
   "source": [
    "for item in seqs:\n",
    "    print(item + ' '+str(len(get_aa_mutations(seqs_spikes['Wuhan_strain'], seqs_spikes[item]))))"
   ]
  },
  {
   "cell_type": "code",
   "execution_count": 52,
   "id": "2c0b6460",
   "metadata": {
    "scrolled": false
   },
   "outputs": [
    {
     "data": {
      "text/plain": [
       "['A66V',\n",
       " 'H68-',\n",
       " 'V69-',\n",
       " 'T94I',\n",
       " 'G141D',\n",
       " 'V142-',\n",
       " 'Y143-',\n",
       " 'Y144-',\n",
       " 'N210-',\n",
       " 'L211I',\n",
       " '-214E',\n",
       " '-215P',\n",
       " '-216E',\n",
       " 'G341D',\n",
       " 'S373L',\n",
       " 'S375P',\n",
       " 'S377F',\n",
       " 'K419N',\n",
       " 'N442K',\n",
       " 'G448S',\n",
       " 'S479N',\n",
       " 'T480K',\n",
       " 'E486A',\n",
       " 'Q495R',\n",
       " 'G498S',\n",
       " 'Q500R',\n",
       " 'N503Y',\n",
       " 'Y507H',\n",
       " 'T549K',\n",
       " 'D616G',\n",
       " 'H657Y',\n",
       " 'N681K',\n",
       " 'P683H',\n",
       " 'N766K',\n",
       " 'D798Y',\n",
       " 'N858K',\n",
       " 'Q956H',\n",
       " 'N971K',\n",
       " 'L983F']"
      ]
     },
     "execution_count": 52,
     "metadata": {},
     "output_type": "execute_result"
    }
   ],
   "source": [
    "mutations = {}\n",
    "for item in seqs:\n",
    "    mutations[item] = (get_aa_mutations(seqs_spikes['Wuhan_strain'], seqs_spikes[item]))\n",
    "mutations['B.1.1.529|Omicron']"
   ]
  },
  {
   "cell_type": "code",
   "execution_count": 68,
   "id": "1474a116",
   "metadata": {},
   "outputs": [],
   "source": [
    "#diagram/visualization of differences in amino acids\n",
    "#import matplotlib.pyplot as plt\n",
    "#plt.figure(figsize = (15,5))\n",
    "#for y, item in enumerate(seqs):\n",
    "#    plt.plot((0,len(seqs['Wuhan_strain'])), (y,y), color = 'lightgrey')\n",
    "#    plt.text(-160, y+0.5, item, va = 'center', ha = 'left')\n",
    "    \n",
    "#    for yy, mutation in enumerate(mutations[item]):\n",
    "#        pos = int(mutation[1:-1])\n",
    "#        aa_change = mutation[-1]\n",
    "#        if yy%3 == 0:\n",
    "#            plt.text(pos, y-.2, aa_change, va = 'center', ha = 'center')\n",
    "#        elif yy%2 == 0:\n",
    "#            plt.text(pos, y, aa_change, va = 'center', ha = 'center')\n",
    "#        else:\n",
    "#            plt.text(pos, y+.2, aa_change, va = 'center', ha = 'center')\n",
    "     \n",
    "\n",
    "    \n",
    "#    plt.xlim(-175, len(seqs['Wuhan_strain']) + 100)\n",
    "#    plt.ylim(- .75, 5.75)"
   ]
  },
  {
   "cell_type": "code",
   "execution_count": 71,
   "id": "b8bc07f4",
   "metadata": {},
   "outputs": [],
   "source": [
    "import os\n",
    "from h2ogpte import H2OGPTE\n",
    "\n",
    "client = H2OGPTE(\n",
    "    address='https://h2ogpte.genai.h2o.ai',\n",
    "    api_key='sk-v5jQ1mXdj3Okk3K15lfuV2oGEaEWcwtrOLHATmtd9VTuZaQG')"
   ]
  },
  {
   "cell_type": "code",
   "execution_count": 72,
   "id": "05b7e85b",
   "metadata": {},
   "outputs": [],
   "source": [
    "# create a new collection\n",
    "collection_id = client.create_collection(\n",
    "    name='My Page',\n",
    "    description='Covid Spike Protein Analysis'\n",
    ")"
   ]
  },
  {
   "cell_type": "code",
   "execution_count": 73,
   "id": "a2f5b065",
   "metadata": {},
   "outputs": [
    {
     "data": {
      "text/plain": [
       "Job(id='4efde391-01ab-4d5d-bdc6-7357fa645be3', passed=1.0, failed=0.0, progress=1.0, completed=True, canceled=False, date=datetime.datetime(2024, 1, 7, 5, 11, 39, tzinfo=datetime.timezone.utc), kind=<JobKind.IngestWebsiteJob: 'IngestWebsiteJob'>, statuses=[JobStatus(id='432546a5d8924b6982244329c11b65f2', status='Indexing done.')], errors=[])"
      ]
     },
     "execution_count": 73,
     "metadata": {},
     "output_type": "execute_result"
    }
   ],
   "source": [
    "# upload documents\n",
    "client.ingest_website(collection_id, 'https://anjali-ambati.weebly.com/my-model.html')"
   ]
  },
  {
   "cell_type": "code",
   "execution_count": 74,
   "id": "e952a8ae",
   "metadata": {},
   "outputs": [],
   "source": [
    "# create a chat session\n",
    "chat_session_id = client.create_chat_session(collection_id)"
   ]
  },
  {
   "cell_type": "code",
   "execution_count": 75,
   "id": "c72fb129",
   "metadata": {},
   "outputs": [
    {
     "name": "stdout",
     "output_type": "stream",
     "text": [
      "According to the information provided in the context, the initial prototypes were:\n",
      "\n",
      "1. A prototype that used the Needleman-Wunsch algorithm to score each alignment possible between two DNA sequences and return the one with the best score.\n",
      "2. A prototype that allowed the alignment of FASTA files.\n"
     ]
    }
   ],
   "source": [
    "# query the collection\n",
    "with client.connect(chat_session_id) as session:\n",
    "    reply = session.query(\n",
    "        'What were the initial prototypes in this website?',\n",
    "        timeout=10\n",
    "    )\n",
    "    print(reply.content)"
   ]
  }
 ],
 "metadata": {
  "kernelspec": {
   "display_name": "Python 3 (ipykernel)",
   "language": "python",
   "name": "python3"
  },
  "language_info": {
   "codemirror_mode": {
    "name": "ipython",
    "version": 3
   },
   "file_extension": ".py",
   "mimetype": "text/x-python",
   "name": "python",
   "nbconvert_exporter": "python",
   "pygments_lexer": "ipython3",
   "version": "3.9.7"
  },
  "widgets": {
   "application/vnd.jupyter.widget-state+json": {
    "state": {},
    "version_major": 2,
    "version_minor": 0
   }
  }
 },
 "nbformat": 4,
 "nbformat_minor": 5
}
